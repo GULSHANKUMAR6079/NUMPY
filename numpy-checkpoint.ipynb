{
 "cells": [
  {
   "cell_type": "code",
   "execution_count": 7,
   "id": "a439c134-634d-4dca-9358-48bfbff266cd",
   "metadata": {},
   "outputs": [],
   "source": [
    "import numpy as np"
   ]
  },
  {
   "cell_type": "code",
   "execution_count": 11,
   "id": "36854dbd-7fbd-4863-bfbc-c8bbb83f0dd2",
   "metadata": {},
   "outputs": [
    {
     "data": {
      "text/plain": [
       "array([10, 20, 30, 40, 50])"
      ]
     },
     "execution_count": 11,
     "metadata": {},
     "output_type": "execute_result"
    }
   ],
   "source": [
    "n1=np.array([10,20,30,40,50])\n",
    "n1"
   ]
  },
  {
   "cell_type": "code",
   "execution_count": 13,
   "id": "b85c785d-497c-469e-aad7-7bf09a3de791",
   "metadata": {},
   "outputs": [
    {
     "data": {
      "text/plain": [
       "numpy.ndarray"
      ]
     },
     "execution_count": 13,
     "metadata": {},
     "output_type": "execute_result"
    }
   ],
   "source": [
    "type(n1)"
   ]
  },
  {
   "cell_type": "code",
   "execution_count": 15,
   "id": "9b2f2671-d696-4e4e-a0c6-f0b1d6a93ddd",
   "metadata": {},
   "outputs": [
    {
     "data": {
      "text/plain": [
       "array([[10, 20, 30, 40],\n",
       "       [50, 60, 70, 80]])"
      ]
     },
     "execution_count": 15,
     "metadata": {},
     "output_type": "execute_result"
    }
   ],
   "source": [
    "n2=np.array([[10,20,30,40],[50,60,70,80]])\n",
    "n2"
   ]
  },
  {
   "cell_type": "code",
   "execution_count": 17,
   "id": "5ebe6f4f-b846-4531-a141-14163885136e",
   "metadata": {},
   "outputs": [
    {
     "data": {
      "text/plain": [
       "numpy.ndarray"
      ]
     },
     "execution_count": 17,
     "metadata": {},
     "output_type": "execute_result"
    }
   ],
   "source": [
    "type(n2)"
   ]
  },
  {
   "cell_type": "markdown",
   "id": "da69326f-8bfc-4fe5-9d35-87fdca2cfef6",
   "metadata": {},
   "source": [
    "initialising the array with zeros \n",
    "it takes like \n",
    "np.zeros((row,column))"
   ]
  },
  {
   "cell_type": "code",
   "execution_count": 19,
   "id": "4aa348a2-2437-4108-bdf1-23b66e436824",
   "metadata": {},
   "outputs": [
    {
     "data": {
      "text/plain": [
       "array([[0., 0., 0.],\n",
       "       [0., 0., 0.],\n",
       "       [0., 0., 0.],\n",
       "       [0., 0., 0.]])"
      ]
     },
     "execution_count": 19,
     "metadata": {},
     "output_type": "execute_result"
    }
   ],
   "source": [
    "n3=np.zeros((4,3))\n",
    "n3"
   ]
  },
  {
   "cell_type": "code",
   "execution_count": 21,
   "id": "81fe1847-cea8-4507-9993-8dae5850bd79",
   "metadata": {},
   "outputs": [
    {
     "data": {
      "text/plain": [
       "array([[0., 0., 0., 0., 0., 0., 0., 0., 0., 0.]])"
      ]
     },
     "execution_count": 21,
     "metadata": {},
     "output_type": "execute_result"
    }
   ],
   "source": [
    "n4=np.zeros((1,10))\n",
    "n4"
   ]
  },
  {
   "cell_type": "markdown",
   "id": "582352dc-d509-4406-b5ef-f2ea877f2816",
   "metadata": {},
   "source": [
    "initialising the array with same numbers \n",
    "it takes like      \n",
    "np.full((row,column),number_to_be_inserted)"
   ]
  },
  {
   "cell_type": "code",
   "execution_count": 25,
   "id": "4491afd6-9058-4118-ac1d-423f1c319a56",
   "metadata": {},
   "outputs": [
    {
     "data": {
      "text/plain": [
       "array([[20, 20, 20, 20],\n",
       "       [20, 20, 20, 20],\n",
       "       [20, 20, 20, 20],\n",
       "       [20, 20, 20, 20]])"
      ]
     },
     "execution_count": 25,
     "metadata": {},
     "output_type": "execute_result"
    }
   ],
   "source": [
    "n5=np.full((4,4),20)\n",
    "n5"
   ]
  },
  {
   "cell_type": "markdown",
   "id": "c93bb808-f7c8-41be-8335-69bcf6a726de",
   "metadata": {},
   "source": [
    "initialising numpy array with a range \n",
    "np.arange(first,last,steporskip_value)\n",
    "the last value will be excluded.\n",
    "step value not to be zero."
   ]
  },
  {
   "cell_type": "code",
   "execution_count": 27,
   "id": "45f81fcc-7490-4e66-9ffd-d27210df8381",
   "metadata": {},
   "outputs": [
    {
     "data": {
      "text/plain": [
       "array([10, 11, 12, 13, 14, 15, 16, 17, 18, 19, 20, 21, 22, 23, 24, 25, 26,\n",
       "       27, 28, 29, 30, 31, 32, 33, 34, 35, 36, 37, 38, 39])"
      ]
     },
     "execution_count": 27,
     "metadata": {},
     "output_type": "execute_result"
    }
   ],
   "source": [
    "n6=np.arange(10,40)\n",
    "n6"
   ]
  },
  {
   "cell_type": "code",
   "execution_count": 29,
   "id": "d204ff1e-41f6-405d-93fe-f2128c0fbbbc",
   "metadata": {},
   "outputs": [
    {
     "data": {
      "text/plain": [
       "array([10, 12, 14, 16, 18, 20, 22, 24, 26, 28, 30, 32, 34, 36, 38])"
      ]
     },
     "execution_count": 29,
     "metadata": {},
     "output_type": "execute_result"
    }
   ],
   "source": [
    "n7=np.arange(10,40,2)\n",
    "n7"
   ]
  },
  {
   "cell_type": "markdown",
   "id": "7880c9bd-affe-45ae-a149-1687cc2fc5c9",
   "metadata": {},
   "source": [
    "initialising a numpy array with random numbers\n",
    "we will use \n",
    "np.random.randint(first,last,total_number_of element_we_want_to_generate)\n",
    "range will be from first to (last-1)\n",
    "no uniqueness will be there means two same number can be generated"
   ]
  },
  {
   "cell_type": "code",
   "execution_count": 53,
   "id": "72802b13-e987-4629-bc70-4ab83e48c838",
   "metadata": {},
   "outputs": [
    {
     "data": {
      "text/plain": [
       "array([1143,   58, 1569,  532, 1826,  959,  834,  858,  993, 1788, 1539,\n",
       "       1048, 1412, 1268,  804, 1864,  644, 1586, 1229,  511,  200, 1669,\n",
       "       1812, 1497,  570, 1807, 1956,  387])"
      ]
     },
     "execution_count": 53,
     "metadata": {},
     "output_type": "execute_result"
    }
   ],
   "source": [
    "n8=np.random.randint(2,2000,28)\n",
    "n8"
   ]
  },
  {
   "cell_type": "markdown",
   "id": "e6487f3c-a63c-4f7f-95a1-4edfafcd0e72",
   "metadata": {},
   "source": [
    "checking the shape of numpy array\n",
    "var1=np.array([[element],[element],[element]])\n",
    "var1.shape"
   ]
  },
  {
   "cell_type": "code",
   "execution_count": 57,
   "id": "f11f6091-a0c3-4e05-b694-de5a07850704",
   "metadata": {},
   "outputs": [
    {
     "data": {
      "text/plain": [
       "(2, 3)"
      ]
     },
     "execution_count": 57,
     "metadata": {},
     "output_type": "execute_result"
    }
   ],
   "source": [
    "n9=np.array([[10,20,30],[20,30,40]])\n",
    "n9.shape"
   ]
  },
  {
   "cell_type": "markdown",
   "id": "ac7093d6-f72a-470b-9e2f-bd016e88badb",
   "metadata": {},
   "source": [
    "if we want to change the shape of array then we can do like following way\n",
    "var1.shape(row_we_want,column_we_want)\n",
    "and to check the output as in form of array we can simply write \n",
    "var1"
   ]
  },
  {
   "cell_type": "code",
   "execution_count": 65,
   "id": "91c8923e-2662-4ffa-a7ae-34fcf5844327",
   "metadata": {},
   "outputs": [
    {
     "data": {
      "text/plain": [
       "array([[10, 20],\n",
       "       [30, 20],\n",
       "       [30, 40]])"
      ]
     },
     "execution_count": 65,
     "metadata": {},
     "output_type": "execute_result"
    }
   ],
   "source": [
    "n9.shape=(3,2)\n",
    "n9"
   ]
  },
  {
   "cell_type": "markdown",
   "id": "3d7abf55-6738-4886-8e6d-f34964383b59",
   "metadata": {},
   "source": [
    "some stacking method"
   ]
  },
  {
   "cell_type": "markdown",
   "id": "0a17988c-7a91-4b7d-8eef-12526ed1a8cd",
   "metadata": {},
   "source": [
    "vstack():-it simply stack one array vertical to other stack\n",
    "it depends which array you want to stack on top \n",
    "it takes only one argument that's why it is in two (())\n",
    "var1=np.array([10,20,30])\n",
    "var2=np.array([50,60,70])\n",
    "np.vstack((var1,var2))\n",
    "or\n",
    "np.vstack((var2,var1))"
   ]
  },
  {
   "cell_type": "code",
   "execution_count": 71,
   "id": "8c14c92c-d4d2-492d-911a-745f1ab17a8d",
   "metadata": {},
   "outputs": [
    {
     "data": {
      "text/plain": [
       "array([[20, 30, 40],\n",
       "       [10, 20, 29]])"
      ]
     },
     "execution_count": 71,
     "metadata": {},
     "output_type": "execute_result"
    }
   ],
   "source": [
    "n1=np.array([10,20,29])\n",
    "n2=np.array([20,30,40])\n",
    "np.vstack((n2,n1))\n",
    "#np.vstack((n1,n2))"
   ]
  },
  {
   "cell_type": "markdown",
   "id": "6ee24184-0154-41b5-a99b-adb3d5edb494",
   "metadata": {},
   "source": [
    "hstack():-it simply stack one array horizontal to other stack\n",
    "it depends which array you want to stack on sideby side \n",
    "it takes only one argument that's why it is in two (())\n",
    "var1=np.array([10,20,30])\n",
    "var2=np.array([50,60,70])\n",
    "np.hstack((var1,var2))\n",
    "or\n",
    "np.hstack((var2,var1))"
   ]
  },
  {
   "cell_type": "code",
   "execution_count": 73,
   "id": "52da8091-c6af-4a6b-9f49-7c85cb305ff7",
   "metadata": {},
   "outputs": [
    {
     "data": {
      "text/plain": [
       "array([20, 30, 40, 10, 20, 29])"
      ]
     },
     "execution_count": 73,
     "metadata": {},
     "output_type": "execute_result"
    }
   ],
   "source": [
    "n1=np.array([10,20,29])\n",
    "n2=np.array([20,30,40])\n",
    "np.hstack((n2,n1))\n",
    "#np.vstack((n1,n2))"
   ]
  },
  {
   "cell_type": "markdown",
   "id": "dd87926e-4254-42fe-af01-a0a861813877",
   "metadata": {},
   "source": [
    "column_stack():-it simply stack one array as  column to other column\n",
    "it depends which array you want to take first \n",
    "it takes only one argument that's why it is in two (())\n",
    "var1=np.array([10,20,30])\n",
    "var2=np.array([50,60,70])\n",
    "np.column_stack((var1,var2))\n",
    "or\n",
    "np.column_stack((var2,var1))"
   ]
  },
  {
   "cell_type": "code",
   "execution_count": 75,
   "id": "e8ed5ef1-3f29-45e6-a67f-e9219922f7cd",
   "metadata": {},
   "outputs": [
    {
     "data": {
      "text/plain": [
       "array([[30, 10],\n",
       "       [40, 23],\n",
       "       [50, 45]])"
      ]
     },
     "execution_count": 75,
     "metadata": {},
     "output_type": "execute_result"
    }
   ],
   "source": [
    "n1=np.array([10,23,45])\n",
    "n2=np.array([30,40,50])\n",
    "np.column_stack((n2,n1))"
   ]
  },
  {
   "cell_type": "markdown",
   "id": "bbd7ec36-ce48-4631-9dd0-766a4a5b5e0d",
   "metadata": {},
   "source": [
    "NUMPY intersection and difference"
   ]
  },
  {
   "cell_type": "markdown",
   "id": "56f6c7d9-8935-43aa-89a5-a84e9f0bd58a",
   "metadata": {},
   "source": [
    "to find intersection betyween two one dimensional arrays\n",
    "np.intersect1d(first_array,second_array)\n",
    "if no element is common then it will give you an empty array"
   ]
  },
  {
   "cell_type": "code",
   "execution_count": 79,
   "id": "942207f1-2b2e-414e-a680-79eceae1ee07",
   "metadata": {},
   "outputs": [
    {
     "data": {
      "text/plain": [
       "array([23])"
      ]
     },
     "execution_count": 79,
     "metadata": {},
     "output_type": "execute_result"
    }
   ],
   "source": [
    "n1=np.array([10,23,45])\n",
    "n2=np.array([30,40,23])\n",
    "np.intersect1d(n1,n2)"
   ]
  },
  {
   "cell_type": "markdown",
   "id": "e80fc785-5136-477f-befb-ca7a41c571c0",
   "metadata": {},
   "source": [
    "to find difference between two sets use \n",
    "np.setdiff1d(firstarray,secondarray)"
   ]
  },
  {
   "cell_type": "code",
   "execution_count": 81,
   "id": "c149457b-a4bf-4888-9e03-e9ff14494801",
   "metadata": {},
   "outputs": [
    {
     "data": {
      "text/plain": [
       "array([10, 45, 50, 60])"
      ]
     },
     "execution_count": 81,
     "metadata": {},
     "output_type": "execute_result"
    }
   ],
   "source": [
    "n1=np.array([10,23,45,50,60,70])\n",
    "n2=np.array([30,40,23,70])\n",
    "np.setdiff1d(n1,n2)"
   ]
  },
  {
   "cell_type": "code",
   "execution_count": 83,
   "id": "d3305f9a-1465-44b8-a8d5-fd28b3f1c782",
   "metadata": {},
   "outputs": [
    {
     "data": {
      "text/plain": [
       "array([30, 40])"
      ]
     },
     "execution_count": 83,
     "metadata": {},
     "output_type": "execute_result"
    }
   ],
   "source": [
    "n1=np.array([10,23,45,50,60,70])\n",
    "n2=np.array([30,40,23,70])\n",
    "np.setdiff1d(n2,n1)"
   ]
  },
  {
   "cell_type": "markdown",
   "id": "0eb84ce0-629a-4f23-aaa9-acbbee0be4b0",
   "metadata": {},
   "source": [
    "performing sum of two arrays"
   ]
  },
  {
   "cell_type": "markdown",
   "id": "c6f651a7-3001-481d-8336-5cc06ddd0626",
   "metadata": {},
   "source": [
    "n1=np.array([10,23,45,50,60,70])\n",
    "n2=np.array([30,40,23,70,20,30])\n",
    "np.sum([n1,n2])\n",
    "in this case it will sum whole matrix and give the output \n"
   ]
  },
  {
   "cell_type": "code",
   "execution_count": 9,
   "id": "c342db72-7c10-4293-97a8-764062cd86b4",
   "metadata": {},
   "outputs": [
    {
     "data": {
      "text/plain": [
       "471"
      ]
     },
     "execution_count": 9,
     "metadata": {},
     "output_type": "execute_result"
    }
   ],
   "source": [
    "n1=np.array([10,23,45,50,60,70])\n",
    "n2=np.array([30,40,23,70,20,30])\n",
    "np.sum([n1,n2])"
   ]
  },
  {
   "cell_type": "markdown",
   "id": "f28b2530-3b14-427c-ba22-79abf0c78330",
   "metadata": {},
   "source": [
    "n1=np.array([10,23,45,50,60,70])\n",
    "n2=np.array([30,40,23,70,20,30])\n",
    "np.sum([n1,n2],axis=0)\n",
    "it will sum the value along column when axis=0"
   ]
  },
  {
   "cell_type": "code",
   "execution_count": 15,
   "id": "8035b0a9-259d-4e43-a197-4b941b08fd38",
   "metadata": {},
   "outputs": [
    {
     "data": {
      "text/plain": [
       "array([ 40,  63,  68, 120,  80, 100])"
      ]
     },
     "execution_count": 15,
     "metadata": {},
     "output_type": "execute_result"
    }
   ],
   "source": [
    "n1=np.array([10,23,45,50,60,70])\n",
    "n2=np.array([30,40,23,70,20,30])\n",
    "np.sum([n1,n2],axis=0)"
   ]
  },
  {
   "cell_type": "markdown",
   "id": "4ab4630a-6671-4c95-a581-44c4b317c4e2",
   "metadata": {},
   "source": [
    "n1=np.array([10,23,45,50,60,70])\n",
    "n2=np.array([30,40,23,70,20,30])\n",
    "np.sum([n1,n2],axis=1)\n",
    "it will sum the value along row when axis=1"
   ]
  },
  {
   "cell_type": "code",
   "execution_count": 19,
   "id": "71e02674-8764-408f-9433-4371f48496f5",
   "metadata": {},
   "outputs": [
    {
     "data": {
      "text/plain": [
       "array([258, 213])"
      ]
     },
     "execution_count": 19,
     "metadata": {},
     "output_type": "execute_result"
    }
   ],
   "source": [
    "n1=np.array([10,23,45,50,60,70])\n",
    "n2=np.array([30,40,23,70,20,30])\n",
    "np.sum([n1,n2],axis=1)"
   ]
  },
  {
   "cell_type": "code",
   "execution_count": 21,
   "id": "b2698b4d-d811-4fd7-8f24-d4af71358a05",
   "metadata": {},
   "outputs": [
    {
     "data": {
      "text/plain": [
       "array([[ 40,  63],\n",
       "       [ 68, 120],\n",
       "       [ 80, 100]])"
      ]
     },
     "execution_count": 21,
     "metadata": {},
     "output_type": "execute_result"
    }
   ],
   "source": [
    "n1=np.array([[10,23],[45,50],[60,70]])\n",
    "n2=np.array([[30,40],[23,70],[20,30]])\n",
    "np.sum([n1,n2],axis=0)"
   ]
  },
  {
   "cell_type": "code",
   "execution_count": 23,
   "id": "14f225b8-c4e5-493d-890d-44be7addb3d4",
   "metadata": {},
   "outputs": [
    {
     "data": {
      "text/plain": [
       "array([[115, 143],\n",
       "       [ 73, 140]])"
      ]
     },
     "execution_count": 23,
     "metadata": {},
     "output_type": "execute_result"
    }
   ],
   "source": [
    "n1=np.array([[10,23],[45,50],[60,70]])\n",
    "n2=np.array([[30,40],[23,70],[20,30]])\n",
    "np.sum([n1,n2],axis=1)"
   ]
  },
  {
   "cell_type": "markdown",
   "id": "d6739e98-4892-4f45-bbf0-79408746bf8d",
   "metadata": {},
   "source": [
    "if i want to add some number into whole array then\n",
    "n1=n1+1\n",
    "n1"
   ]
  },
  {
   "cell_type": "code",
   "execution_count": 25,
   "id": "06033c7b-0a5a-4e47-91ba-ea73be3b01a1",
   "metadata": {},
   "outputs": [
    {
     "data": {
      "text/plain": [
       "array([[11, 24],\n",
       "       [46, 51],\n",
       "       [61, 71]])"
      ]
     },
     "execution_count": 25,
     "metadata": {},
     "output_type": "execute_result"
    }
   ],
   "source": [
    "n1=np.array([[10,23],[45,50],[60,70]])\n",
    "n1=n1+1\n",
    "n1"
   ]
  },
  {
   "cell_type": "code",
   "execution_count": 31,
   "id": "cdf7e3ff-bfdc-40a6-8e09-c5c36e9ce539",
   "metadata": {},
   "outputs": [
    {
     "data": {
      "text/plain": [
       "array([11, 24, 46, 51, 61, 71])"
      ]
     },
     "execution_count": 31,
     "metadata": {},
     "output_type": "execute_result"
    }
   ],
   "source": [
    "n1=np.array([10,23,45,50,60,70])\n",
    "n1=n1+1\n",
    "n1"
   ]
  },
  {
   "cell_type": "markdown",
   "id": "679ff6bd-0c47-4584-bf4a-b4fd9e8d14a3",
   "metadata": {},
   "source": [
    "for multiplication\n",
    "do\n",
    "n1=n1*2"
   ]
  },
  {
   "cell_type": "code",
   "execution_count": 33,
   "id": "baaa3df9-ca09-46f7-9027-90db95c25c11",
   "metadata": {},
   "outputs": [
    {
     "data": {
      "text/plain": [
       "array([[ 40,  92],\n",
       "       [180, 200],\n",
       "       [240, 280]])"
      ]
     },
     "execution_count": 33,
     "metadata": {},
     "output_type": "execute_result"
    }
   ],
   "source": [
    "n1=np.array([[10,23],[45,50],[60,70]])\n",
    "n1=n1*4\n",
    "n1"
   ]
  },
  {
   "cell_type": "code",
   "execution_count": 35,
   "id": "dd34726b-4ce3-444d-9b44-dc9eb8b14108",
   "metadata": {},
   "outputs": [
    {
     "data": {
      "text/plain": [
       "array([ 30,  69, 135, 150, 180, 210])"
      ]
     },
     "execution_count": 35,
     "metadata": {},
     "output_type": "execute_result"
    }
   ],
   "source": [
    "n1=np.array([10,23,45,50,60,70])\n",
    "n1=n1*3\n",
    "n1"
   ]
  },
  {
   "cell_type": "markdown",
   "id": "1ff7c989-d342-4fd1-b846-f14fb060d4f0",
   "metadata": {},
   "source": [
    "for subtraction"
   ]
  },
  {
   "cell_type": "code",
   "execution_count": 37,
   "id": "4c1de52f-c876-4ea4-940c-e55c27022991",
   "metadata": {},
   "outputs": [
    {
     "data": {
      "text/plain": [
       "array([[ 6, 19],\n",
       "       [41, 46],\n",
       "       [56, 66]])"
      ]
     },
     "execution_count": 37,
     "metadata": {},
     "output_type": "execute_result"
    }
   ],
   "source": [
    "n1=np.array([[10,23],[45,50],[60,70]])\n",
    "n1=n1-4\n",
    "n1"
   ]
  },
  {
   "cell_type": "code",
   "execution_count": 39,
   "id": "120ab373-0caf-421c-b4cd-de9ed02868c0",
   "metadata": {},
   "outputs": [
    {
     "data": {
      "text/plain": [
       "array([ 7, 20, 42, 47, 57, 67])"
      ]
     },
     "execution_count": 39,
     "metadata": {},
     "output_type": "execute_result"
    }
   ],
   "source": [
    "n1=np.array([10,23,45,50,60,70])\n",
    "n1=n1-3\n",
    "n1"
   ]
  },
  {
   "cell_type": "markdown",
   "id": "fa1b9f67-a467-4244-ac33-ed83ad6cea8f",
   "metadata": {},
   "source": [
    "for division"
   ]
  },
  {
   "cell_type": "code",
   "execution_count": 41,
   "id": "68dd3d55-fdd5-4afb-a6d0-2b062229f897",
   "metadata": {},
   "outputs": [
    {
     "data": {
      "text/plain": [
       "array([[ 2.5 ,  5.75],\n",
       "       [11.25, 12.5 ],\n",
       "       [15.  , 17.5 ]])"
      ]
     },
     "execution_count": 41,
     "metadata": {},
     "output_type": "execute_result"
    }
   ],
   "source": [
    "n1=np.array([[10,23],[45,50],[60,70]])\n",
    "n1=n1/4\n",
    "n1"
   ]
  },
  {
   "cell_type": "code",
   "execution_count": 43,
   "id": "91433915-a8bd-4f72-a4b2-eefb19d2517d",
   "metadata": {},
   "outputs": [
    {
     "data": {
      "text/plain": [
       "array([ 3.33333333,  7.66666667, 15.        , 16.66666667, 20.        ,\n",
       "       23.33333333])"
      ]
     },
     "execution_count": 43,
     "metadata": {},
     "output_type": "execute_result"
    }
   ],
   "source": [
    "n1=np.array([10,23,45,50,60,70])\n",
    "n1=n1/3\n",
    "n1"
   ]
  },
  {
   "cell_type": "markdown",
   "id": "d6064ce7-2886-4e36-b1db-b8d704ac786c",
   "metadata": {},
   "source": [
    "mean \n",
    "np.mean(n1)\n"
   ]
  },
  {
   "cell_type": "code",
   "execution_count": 45,
   "id": "05f827c9-d74a-438f-94fb-2afb117685e8",
   "metadata": {},
   "outputs": [
    {
     "data": {
      "text/plain": [
       "43.0"
      ]
     },
     "execution_count": 45,
     "metadata": {},
     "output_type": "execute_result"
    }
   ],
   "source": [
    "n1=np.array([10,23,45,50,60,70])\n",
    "np.mean(n1)"
   ]
  },
  {
   "cell_type": "code",
   "execution_count": 51,
   "id": "d1449770-6cdd-416c-86d6-81388ee11b70",
   "metadata": {},
   "outputs": [
    {
     "data": {
      "text/plain": [
       "38.5"
      ]
     },
     "execution_count": 51,
     "metadata": {},
     "output_type": "execute_result"
    }
   ],
   "source": [
    "n1=np.array([[10,23],[45,50],[60,70],[20,30]])\n",
    "np.mean(n1)"
   ]
  },
  {
   "cell_type": "code",
   "execution_count": 53,
   "id": "12551744-7406-4763-8551-4fad97595390",
   "metadata": {},
   "outputs": [
    {
     "data": {
      "text/plain": [
       "array([[38.33333333, 47.66666667],\n",
       "       [24.33333333, 46.66666667]])"
      ]
     },
     "execution_count": 53,
     "metadata": {},
     "output_type": "execute_result"
    }
   ],
   "source": [
    "n1=np.array([[10,23],[45,50],[60,70]])\n",
    "n2=np.array([[30,40],[23,70],[20,30]])\n",
    "np.mean([n1,n2],axis=1)"
   ]
  },
  {
   "cell_type": "code",
   "execution_count": 57,
   "id": "2e04069c-4724-4eca-b9e9-7e92efb1778a",
   "metadata": {},
   "outputs": [
    {
     "data": {
      "text/plain": [
       "array([[20. , 31.5],\n",
       "       [34. , 60. ],\n",
       "       [40. , 50. ]])"
      ]
     },
     "execution_count": 57,
     "metadata": {},
     "output_type": "execute_result"
    }
   ],
   "source": [
    "n1=np.array([[10,23],[45,50],[60,70]])\n",
    "n2=np.array([[30,40],[23,70],[20,30]])\n",
    "np.mean([n1,n2],axis=0)"
   ]
  },
  {
   "cell_type": "markdown",
   "id": "146c98c3-19a0-4737-b5a7-c34b5feb99ef",
   "metadata": {},
   "source": [
    "median\n",
    "np.median(array)"
   ]
  },
  {
   "cell_type": "code",
   "execution_count": 67,
   "id": "18c9a8dd-76dd-4425-a8f8-9e2ee45a2813",
   "metadata": {},
   "outputs": [
    {
     "data": {
      "text/plain": [
       "array([[45., 50.],\n",
       "       [23., 40.]])"
      ]
     },
     "execution_count": 67,
     "metadata": {},
     "output_type": "execute_result"
    }
   ],
   "source": [
    "n1=np.array([[10,23],[45,50],[60,70]])\n",
    "n2=np.array([[30,40],[23,70],[20,30]])\n",
    "np.median([n1,n2],axis=1)\n",
    "#axis=1 so column wise "
   ]
  },
  {
   "cell_type": "code",
   "execution_count": 65,
   "id": "04d84d85-0018-48a6-9fff-efb36b9c4f7b",
   "metadata": {},
   "outputs": [
    {
     "data": {
      "text/plain": [
       "array([[10., 23., 31.],\n",
       "       [22., 23., 50.],\n",
       "       [10., 20., 30.]])"
      ]
     },
     "execution_count": 65,
     "metadata": {},
     "output_type": "execute_result"
    }
   ],
   "source": [
    "n1=np.array([[10,23,31],[34,45,50],[60,40,70]])\n",
    "n2=np.array([[30,40,50],[22,23,70],[10,20,30]])\n",
    "n3=np.array([[1,2,3],[3,4,5],[6,7,8]])\n",
    "np.median([n1,n2,n3],axis=0)"
   ]
  },
  {
   "cell_type": "code",
   "execution_count": 69,
   "id": "774e914d-e83c-4bc6-b10e-18da2c631270",
   "metadata": {},
   "outputs": [
    {
     "data": {
      "text/plain": [
       "37.5"
      ]
     },
     "execution_count": 69,
     "metadata": {},
     "output_type": "execute_result"
    }
   ],
   "source": [
    "n1=np.array([[10,23],[45,50],[60,70],[20,30]])\n",
    "np.median(n1)"
   ]
  },
  {
   "cell_type": "code",
   "execution_count": 71,
   "id": "8815569d-a807-4bb6-901b-b5559735afc8",
   "metadata": {},
   "outputs": [
    {
     "data": {
      "text/plain": [
       "47.5"
      ]
     },
     "execution_count": 71,
     "metadata": {},
     "output_type": "execute_result"
    }
   ],
   "source": [
    "n1=np.array([10,23,45,50,60,70])\n",
    "np.median(n1)"
   ]
  },
  {
   "cell_type": "markdown",
   "id": "82324bf7-1ce4-47f4-90f2-dcac6535de33",
   "metadata": {},
   "source": [
    "standard deviation\n",
    "np.std(array)"
   ]
  },
  {
   "cell_type": "code",
   "execution_count": 73,
   "id": "7cd362ec-6738-41d7-9074-63ec4b37fb2a",
   "metadata": {},
   "outputs": [
    {
     "data": {
      "text/plain": [
       "20.65591117977289"
      ]
     },
     "execution_count": 73,
     "metadata": {},
     "output_type": "execute_result"
    }
   ],
   "source": [
    "n1=np.array([10,23,45,50,60,70])\n",
    "np.std(n1)"
   ]
  },
  {
   "cell_type": "code",
   "execution_count": 75,
   "id": "f3e1b3d0-1359-4ff4-aa59-332230482669",
   "metadata": {},
   "outputs": [
    {
     "data": {
      "text/plain": [
       "19.672315572906"
      ]
     },
     "execution_count": 75,
     "metadata": {},
     "output_type": "execute_result"
    }
   ],
   "source": [
    "n1=np.array([[10,23],[45,50],[60,70],[20,30]])\n",
    "np.std(n1)"
   ]
  },
  {
   "cell_type": "code",
   "execution_count": 77,
   "id": "763f1f25-55b6-4b87-b32e-20f9fc5e8a9c",
   "metadata": {},
   "outputs": [
    {
     "data": {
      "text/plain": [
       "array([[12.11977264, 15.54205764, 19.30457631],\n",
       "       [12.76279315, 16.75310916, 27.18251072],\n",
       "       [24.5673677 , 13.57284871, 25.66450207]])"
      ]
     },
     "execution_count": 77,
     "metadata": {},
     "output_type": "execute_result"
    }
   ],
   "source": [
    "n1=np.array([[10,23,31],[34,45,50],[60,40,70]])\n",
    "n2=np.array([[30,40,50],[22,23,70],[10,20,30]])\n",
    "n3=np.array([[1,2,3],[3,4,5],[6,7,8]])\n",
    "np.std([n1,n2,n3],axis=0)"
   ]
  },
  {
   "cell_type": "code",
   "execution_count": 79,
   "id": "00b57c7f-cb6e-432a-90a7-a0ed477e0999",
   "metadata": {},
   "outputs": [
    {
     "data": {
      "text/plain": [
       "array([[20.94967515, 19.25847577],\n",
       "       [ 4.18993503, 16.99673171]])"
      ]
     },
     "execution_count": 79,
     "metadata": {},
     "output_type": "execute_result"
    }
   ],
   "source": [
    "n1=np.array([[10,23],[45,50],[60,70]])\n",
    "n2=np.array([[30,40],[23,70],[20,30]])\n",
    "np.std([n1,n2],axis=1)"
   ]
  },
  {
   "cell_type": "markdown",
   "id": "257a578a-e427-4df2-93e2-4754256f204a",
   "metadata": {},
   "source": [
    "numpy MATRIX"
   ]
  },
  {
   "cell_type": "markdown",
   "id": "9d9dcbf8-2b00-4f6b-89a5-eff08cb00934",
   "metadata": {},
   "source": [
    "to access row simply use var1[rownumbertobeaccessed]"
   ]
  },
  {
   "cell_type": "code",
   "execution_count": 91,
   "id": "03455d2d-f553-4b5e-942d-c6004d18edd9",
   "metadata": {},
   "outputs": [
    {
     "data": {
      "text/plain": [
       "array([10, 23, 31])"
      ]
     },
     "execution_count": 91,
     "metadata": {},
     "output_type": "execute_result"
    }
   ],
   "source": [
    "n1=np.array([[10,23,31],[34,45,50],[60,40,70]])\n",
    "n1[0]"
   ]
  },
  {
   "cell_type": "code",
   "execution_count": 89,
   "id": "a86f1d94-fc6f-48e9-b47e-6b88e1775762",
   "metadata": {},
   "outputs": [
    {
     "data": {
      "text/plain": [
       "array([[10, 23, 31],\n",
       "       [34, 45, 50]])"
      ]
     },
     "execution_count": 89,
     "metadata": {},
     "output_type": "execute_result"
    }
   ],
   "source": [
    "n1=np.array([[10,23,31],[34,45,50],[60,40,70]])\n",
    "n1[0:2]"
   ]
  },
  {
   "cell_type": "code",
   "execution_count": 83,
   "id": "dd01bc10-e6a1-46b3-a1a3-5a8c5699c5e0",
   "metadata": {},
   "outputs": [
    {
     "data": {
      "text/plain": [
       "23"
      ]
     },
     "execution_count": 83,
     "metadata": {},
     "output_type": "execute_result"
    }
   ],
   "source": [
    "n1=np.array([[10,23,31],[34,45,50],[60,40,70]])\n",
    "n1[0][1]"
   ]
  },
  {
   "cell_type": "code",
   "execution_count": 85,
   "id": "a6b9a312-9c8d-4cf0-a328-3d46f982c00e",
   "metadata": {},
   "outputs": [
    {
     "data": {
      "text/plain": [
       "45"
      ]
     },
     "execution_count": 85,
     "metadata": {},
     "output_type": "execute_result"
    }
   ],
   "source": [
    "n1=np.array([[10,23,31],[34,45,50],[60,40,70]])\n",
    "n1[1][1]"
   ]
  },
  {
   "cell_type": "markdown",
   "id": "7a0e8621-33c4-44cb-b004-f541274b814f",
   "metadata": {},
   "source": [
    "for column we use\n",
    "var1[:,column to be accesed]\n"
   ]
  },
  {
   "cell_type": "code",
   "execution_count": 93,
   "id": "238eadb1-2bbb-4242-ac28-b4b4e17ebb8f",
   "metadata": {},
   "outputs": [
    {
     "data": {
      "text/plain": [
       "array([23, 45, 40])"
      ]
     },
     "execution_count": 93,
     "metadata": {},
     "output_type": "execute_result"
    }
   ],
   "source": [
    "n1=np.array([[10,23,31],[34,45,50],[60,40,70]])\n",
    "n1[:,1]"
   ]
  },
  {
   "cell_type": "markdown",
   "id": "5d41e512-40b7-462c-b378-2b197b547004",
   "metadata": {},
   "source": [
    "if we will not use comma after colon then compiler will think that we are asking for row not for column"
   ]
  },
  {
   "cell_type": "code",
   "execution_count": 95,
   "id": "f3f57cad-d024-4667-8c96-5adb10c7e705",
   "metadata": {},
   "outputs": [
    {
     "data": {
      "text/plain": [
       "array([[10, 23, 31]])"
      ]
     },
     "execution_count": 95,
     "metadata": {},
     "output_type": "execute_result"
    }
   ],
   "source": [
    "n1=np.array([[10,23,31],[34,45,50],[60,40,70]])\n",
    "n1[:1]"
   ]
  },
  {
   "cell_type": "code",
   "execution_count": 99,
   "id": "7655c504-be62-49e2-9fd9-cd79c4ee4056",
   "metadata": {},
   "outputs": [
    {
     "data": {
      "text/plain": [
       "array([50, 70])"
      ]
     },
     "execution_count": 99,
     "metadata": {},
     "output_type": "execute_result"
    }
   ],
   "source": [
    "n1=np.array([[10,23,31],[34,45,50],[60,40,70]])\n",
    "n1[1:,2]"
   ]
  },
  {
   "cell_type": "code",
   "execution_count": 105,
   "id": "84967609-7d79-491e-bfd8-b509ef2c2bde",
   "metadata": {},
   "outputs": [
    {
     "data": {
      "text/plain": [
       "array([70])"
      ]
     },
     "execution_count": 105,
     "metadata": {},
     "output_type": "execute_result"
    }
   ],
   "source": [
    "n1=np.array([[10,23,31],[34,45,50],[60,40,70]])\n",
    "n1[2:,2]"
   ]
  },
  {
   "cell_type": "code",
   "execution_count": 109,
   "id": "ce3adb91-13d9-4055-acda-d5ec31f40648",
   "metadata": {},
   "outputs": [
    {
     "data": {
      "text/plain": [
       "array([[1, 2, 3],\n",
       "       [3, 4, 5],\n",
       "       [6, 7, 8]])"
      ]
     },
     "execution_count": 109,
     "metadata": {},
     "output_type": "execute_result"
    }
   ],
   "source": [
    "n1=np.array([[10,23,31],[34,45,50],[60,40,70]])\n",
    "n2=np.array([[30,40,50],[22,23,70],[10,20,30]])\n",
    "n3=np.array([[1,2,3],[3,4,5],[6,7,8]])\n",
    "n4=([n1,n2,n3])\n",
    "n4[2]"
   ]
  },
  {
   "cell_type": "code",
   "execution_count": 121,
   "id": "5edc1a73-8b0f-4fdb-b9ee-da4f09978a09",
   "metadata": {},
   "outputs": [
    {
     "data": {
      "text/plain": [
       "[array([[1, 2, 3],\n",
       "        [3, 4, 5],\n",
       "        [6, 7, 8]]),\n",
       " array([[30, 40, 50],\n",
       "        [22, 23, 70],\n",
       "        [10, 20, 30]]),\n",
       " array([[10, 23, 31],\n",
       "        [34, 45, 50],\n",
       "        [60, 40, 70]])]"
      ]
     },
     "execution_count": 121,
     "metadata": {},
     "output_type": "execute_result"
    }
   ],
   "source": [
    "n1=np.array([[10,23,31],[34,45,50],[60,40,70]])\n",
    "n2=np.array([[30,40,50],[22,23,70],[10,20,30]])\n",
    "n3=np.array([[1,2,3],[3,4,5],[6,7,8]])\n",
    "n4=([n3,n2,n1])\n",
    "n4\n"
   ]
  },
  {
   "cell_type": "code",
   "execution_count": 123,
   "id": "a6de1dab-54a5-40a0-8d24-1d67400dbd0b",
   "metadata": {},
   "outputs": [
    {
     "data": {
      "text/plain": [
       "5"
      ]
     },
     "execution_count": 123,
     "metadata": {},
     "output_type": "execute_result"
    }
   ],
   "source": [
    "n1=np.array([[10,23,31],[34,45,50],[60,40,70]])\n",
    "n2=np.array([[30,40,50],[22,23,70],[10,20,30]])\n",
    "n3=np.array([[1,2,3],[3,4,5],[6,7,8]])\n",
    "n4=([n1,n2,n3])\n",
    "n4[2][1][2]"
   ]
  },
  {
   "cell_type": "markdown",
   "id": "94389124-53b6-45c6-bad8-2451c9ac9848",
   "metadata": {},
   "source": [
    "TRANSPOSE OF MATRIX"
   ]
  },
  {
   "cell_type": "code",
   "execution_count": 125,
   "id": "5738b1a2-268d-4a9a-bb98-5aa528f25910",
   "metadata": {},
   "outputs": [
    {
     "data": {
      "text/plain": [
       "array([[10, 34, 60],\n",
       "       [23, 45, 40],\n",
       "       [31, 50, 70]])"
      ]
     },
     "execution_count": 125,
     "metadata": {},
     "output_type": "execute_result"
    }
   ],
   "source": [
    "n1=np.array([[10,23,31],[34,45,50],[60,40,70]])\n",
    "n1.transpose()\n"
   ]
  },
  {
   "cell_type": "code",
   "execution_count": 143,
   "id": "575170d6-4522-441d-aea1-8b46db3492c8",
   "metadata": {},
   "outputs": [
    {
     "data": {
      "text/plain": [
       "array([[30, 22, 10],\n",
       "       [40, 23, 20],\n",
       "       [50, 70, 30]])"
      ]
     },
     "execution_count": 143,
     "metadata": {},
     "output_type": "execute_result"
    }
   ],
   "source": [
    "n1=np.array([[10,23,31],[34,45,50],[60,40,70]])\n",
    "n2=np.array([[30,40,50],[22,23,70],[10,20,30]])\n",
    "n3=np.array([[1,2,3],[3,4,5],[6,7,8]])\n",
    "n2.transpose()"
   ]
  },
  {
   "cell_type": "markdown",
   "id": "b76b0d3e-7334-4416-8ccd-cba81f558022",
   "metadata": {},
   "source": [
    "MATRIX MULTIPLICATION (0F TWO MATRIX)"
   ]
  },
  {
   "cell_type": "code",
   "execution_count": 145,
   "id": "865751c4-ca1e-4a53-9f86-91c450a7d5b5",
   "metadata": {},
   "outputs": [
    {
     "data": {
      "text/plain": [
       "array([[1116, 1549, 3040],\n",
       "       [2510, 3395, 6350],\n",
       "       [3380, 4720, 7900]])"
      ]
     },
     "execution_count": 145,
     "metadata": {},
     "output_type": "execute_result"
    }
   ],
   "source": [
    "n1=np.array([[10,23,31],[34,45,50],[60,40,70]])\n",
    "n2=np.array([[30,40,50],[22,23,70],[10,20,30]])\n",
    "n1.dot(n2)"
   ]
  },
  {
   "cell_type": "code",
   "execution_count": 147,
   "id": "cd889147-98ec-48d8-ba52-887b2c202515",
   "metadata": {},
   "outputs": [
    {
     "data": {
      "text/plain": [
       "array([[4660, 4490, 6430],\n",
       "       [5202, 4341, 6732],\n",
       "       [2580, 2330, 3410]])"
      ]
     },
     "execution_count": 147,
     "metadata": {},
     "output_type": "execute_result"
    }
   ],
   "source": [
    "n1=np.array([[10,23,31],[34,45,50],[60,40,70]])\n",
    "n2=np.array([[30,40,50],[22,23,70],[10,20,30]])\n",
    "n2.dot(n1)"
   ]
  },
  {
   "cell_type": "code",
   "execution_count": 149,
   "id": "ca0e3148-2536-45c2-b4ea-3daf105f49aa",
   "metadata": {},
   "outputs": [
    {
     "data": {
      "text/plain": [
       "array([[24003, 29708, 35413],\n",
       "       [50795, 63050, 75305],\n",
       "       [64940, 80940, 96940]])"
      ]
     },
     "execution_count": 149,
     "metadata": {},
     "output_type": "execute_result"
    }
   ],
   "source": [
    "n1=np.array([[10,23,31],[34,45,50],[60,40,70]])\n",
    "n2=np.array([[30,40,50],[22,23,70],[10,20,30]])\n",
    "n3=np.array([[1,2,3],[3,4,5],[6,7,8]])\n",
    "n1.dot(n2).dot(n3)"
   ]
  },
  {
   "cell_type": "code",
   "execution_count": 151,
   "id": "6b46b0da-1ed2-4f88-976f-34f31e3c4fe1",
   "metadata": {},
   "outputs": [
    {
     "data": {
      "text/plain": [
       "array([[24003, 29708, 35413],\n",
       "       [50795, 63050, 75305],\n",
       "       [64940, 80940, 96940]])"
      ]
     },
     "execution_count": 151,
     "metadata": {},
     "output_type": "execute_result"
    }
   ],
   "source": [
    "n1=np.array([[1116, 1549, 3040],[2510, 3395, 6350],[3380, 4720, 7900]])\n",
    "n2=np.array([[1,2,3],[3,4,5],[6,7,8]])\n",
    "n1.dot(n2)"
   ]
  },
  {
   "cell_type": "markdown",
   "id": "d20cc1f0-6dd8-454a-8d34-4fc2b1b85dbd",
   "metadata": {},
   "source": [
    "HOW WE CAN SAVE AND LOAD THE NUMPY ARRAY \n",
    "TO SAVE IT WE WILL USE NP.SAVE('NAME',VAR1)\n",
    "TO LOAD IT WE WILL USE NP.LOAD('NAME.NPY')\n",
    "  .npy is must while loading th enumpy array"
   ]
  },
  {
   "cell_type": "code",
   "execution_count": 153,
   "id": "87ead622-a183-4de7-ab85-9c7701f6560f",
   "metadata": {},
   "outputs": [],
   "source": [
    "n1=np.array([[24003, 29708, 35413],[50795, 63050, 75305],[64940, 80940, 96940]])\n",
    "np.save('my_numpy',n1)"
   ]
  },
  {
   "cell_type": "markdown",
   "id": "849eee3d-321c-4e0a-90a9-03d8f28b949d",
   "metadata": {},
   "source": [
    "loading......"
   ]
  },
  {
   "cell_type": "code",
   "execution_count": 155,
   "id": "d18f3a1a-e346-4529-b24a-7dc427e10afd",
   "metadata": {},
   "outputs": [
    {
     "data": {
      "text/plain": [
       "array([[24003, 29708, 35413],\n",
       "       [50795, 63050, 75305],\n",
       "       [64940, 80940, 96940]])"
      ]
     },
     "execution_count": 155,
     "metadata": {},
     "output_type": "execute_result"
    }
   ],
   "source": [
    "n2=np.load('my_numpy.npy')\n",
    "n2"
   ]
  },
  {
   "cell_type": "code",
   "execution_count": null,
   "id": "37c5fb3e-daeb-4e35-b0f1-d124a4b8e87a",
   "metadata": {},
   "outputs": [],
   "source": []
  }
 ],
 "metadata": {
  "kernelspec": {
   "display_name": "Python 3 (ipykernel)",
   "language": "python",
   "name": "python3"
  },
  "language_info": {
   "codemirror_mode": {
    "name": "ipython",
    "version": 3
   },
   "file_extension": ".py",
   "mimetype": "text/x-python",
   "name": "python",
   "nbconvert_exporter": "python",
   "pygments_lexer": "ipython3",
   "version": "3.12.4"
  }
 },
 "nbformat": 4,
 "nbformat_minor": 5
}
